{
 "cells": [
  {
   "cell_type": "code",
   "execution_count": 166,
   "metadata": {},
   "outputs": [],
   "source": [
    "import numpy as np\n",
    "import pandas as pd\n",
    "import sys\n",
    "from sklearn.feature_extraction.text import CountVectorizer\n",
    "from nltk.corpus import stopwords\n",
    "from nltk.tokenize import word_tokenize\n",
    "import string"
   ]
  },
  {
   "cell_type": "code",
   "execution_count": 167,
   "metadata": {},
   "outputs": [],
   "source": [
    "def read_data():\n",
    "    wiki_movie_df = pd.read_json(\"wikidata-movies.json.gz\", lines=True, encoding='UTF8')\n",
    "    rating_df = pd.read_json(\"rotten-tomatoes.json.gz\", lines=True, encoding='UTF8')\n",
    "    genres_df = pd.read_json(\"omdb-data.json.gz\", lines=True, encoding='UTF8')\n",
    "    wiki_genres_df = pd.read_json(\"genres.json.gz\", lines=True, encoding='UTF8')\n",
    "    return wiki_movie_df, rating_df, genres_df, wiki_genres_df"
   ]
  },
  {
   "cell_type": "code",
   "execution_count": 168,
   "metadata": {},
   "outputs": [],
   "source": [
    "def clean_data(genres_df):\n",
    "    genres_df = genres_df.drop(columns=['omdb_awards', 'imdb_id'])\n",
    "    genres_df['omdb_plot'] = genres_df['omdb_plot'].str.lower()\n",
    "    genres_df.columns = ['genres', 'description']\n",
    "    \n",
    "    \n",
    "    return genres_df"
   ]
  },
  {
   "cell_type": "code",
   "execution_count": 169,
   "metadata": {},
   "outputs": [],
   "source": [
    "wiki_movie_df, rating_df, genres_df, wiki_genres_df = read_data()\n",
    "# wiki_movie_df.head()"
   ]
  },
  {
   "cell_type": "code",
   "execution_count": 170,
   "metadata": {},
   "outputs": [],
   "source": [
    "# rating_df.head()"
   ]
  },
  {
   "cell_type": "code",
   "execution_count": 171,
   "metadata": {},
   "outputs": [],
   "source": [
    "# genres_df.head()"
   ]
  },
  {
   "cell_type": "code",
   "execution_count": 172,
   "metadata": {},
   "outputs": [],
   "source": [
    "# wiki_genres_df"
   ]
  },
  {
   "cell_type": "code",
   "execution_count": 173,
   "metadata": {},
   "outputs": [
    {
     "name": "stdout",
     "output_type": "stream",
     "text": [
      "(9676, 2) (23348, 2)\n"
     ]
    }
   ],
   "source": [
    "genres_df = clean_data(genres_df)\n",
    "\n",
    "test = pd.concat([pd.Series(row['description'], row['genres'])\n",
    "                 for _, row in genres_df.iterrows()]).reset_index()\n",
    "\n",
    "# print(genres_df['genres'].values)\n",
    "# a = 'a,b,c'\n",
    "# print(a.split(','))\n",
    "\n",
    "# pd.concat([Series(row['var2'], row['var1'].split(','))              \n",
    "#                     for _, row in a.iterrows()]).reset_index()\n",
    "\n",
    "# genres_df.head()\n",
    "print(genres_df.shape, test.shape)\n",
    "\n",
    "\n",
    "# genres_df.shape"
   ]
  },
  {
   "cell_type": "code",
   "execution_count": null,
   "metadata": {},
   "outputs": [],
   "source": []
  },
  {
   "cell_type": "code",
   "execution_count": null,
   "metadata": {},
   "outputs": [],
   "source": []
  },
  {
   "cell_type": "code",
   "execution_count": null,
   "metadata": {},
   "outputs": [],
   "source": []
  }
 ],
 "metadata": {
  "kernelspec": {
   "display_name": "Python 3",
   "language": "python",
   "name": "python3"
  },
  "language_info": {
   "codemirror_mode": {
    "name": "ipython",
    "version": 3
   },
   "file_extension": ".py",
   "mimetype": "text/x-python",
   "name": "python",
   "nbconvert_exporter": "python",
   "pygments_lexer": "ipython3",
   "version": "3.6.4"
  }
 },
 "nbformat": 4,
 "nbformat_minor": 2
}
