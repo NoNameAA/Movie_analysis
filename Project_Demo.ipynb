{
 "cells": [
  {
   "cell_type": "markdown",
   "metadata": {},
   "source": [
    "# 1. Movie Prediction"
   ]
  },
  {
   "cell_type": "code",
   "execution_count": 60,
   "metadata": {},
   "outputs": [],
   "source": [
    "import process_data\n",
    "import pandas as pd\n",
    "import numpy as np\n",
    "import sys\n",
    "from sklearn.preprocessing import StandardScaler\n",
    "from sklearn.svm import SVC\n",
    "from sklearn.linear_model import LogisticRegression\n",
    "from sklearn.naive_bayes import GaussianNB\n",
    "from sklearn import model_selection\n",
    "import warnings\n",
    "import matplotlib.pyplot as plt\n",
    "import seaborn as sb\n",
    "import matplotlib.pyplot as plt\n",
    "from sklearn.decomposition import PCA\n",
    "from sklearn.ensemble import RandomForestClassifier\n",
    "\n",
    "warnings.filterwarnings(\"ignore\")"
   ]
  },
  {
   "cell_type": "markdown",
   "metadata": {},
   "source": [
    "The method \"predict_by_all\" is designed for using all rating features to train the machine learning models(SVM, Logistic Regression and Naive Bayes). Firstly we normalize the features and also split into training and test parts. Finally using test data to test the accuracy of models, and return the scores of models."
   ]
  },
  {
   "cell_type": "code",
   "execution_count": 61,
   "metadata": {},
   "outputs": [],
   "source": [
    "def predict_by_all(df, X_list):\n",
    "    # df is the dataframe with all rating features and 'profit' feature\n",
    "    # X_list is the list of features of dataframe\n",
    "    X = df[X_list]\n",
    "    y = df['profit']\n",
    "\n",
    "    # Normalize each features\n",
    "    scaler = StandardScaler()\n",
    "    scaler.fit(X)\n",
    "    X = scaler.transform(X)\n",
    "\n",
    "    # Data split\n",
    "    x_train, x_test, y_train, y_test = model_selection.train_test_split(X, y, test_size=0.5)\n",
    "\n",
    "    #SVM Classifier\n",
    "    svc_model = SVC(kernel='linear', C=21)\n",
    "    svc_model.fit(x_train, y_train)    \n",
    "    SVC_score = svc_model.score(x_test, y_test)\n",
    "\n",
    "    #Logistic Regression\n",
    "    LR_model = LogisticRegression()\n",
    "    LR_model.fit(x_train, y_train)\n",
    "    LR_score = LR_model.score(x_test, y_test)\n",
    "\n",
    "    NB_model = GaussianNB()\n",
    "    NB_model.fit(x_train, y_train)\n",
    "    NB_score = NB_model.score(x_test, y_test)\n",
    "\n",
    "    return SVC_score, LR_score, NB_score"
   ]
  },
  {
   "cell_type": "markdown",
   "metadata": {},
   "source": [
    "The method \"feature_selection\" is responsible for evaluate the importance of features and select the top-2 important features. \n",
    "1. Using correlation of pearson method to calculate the pairwise correlation of features.\n",
    "2. Normalize data\n",
    "3. Using normalized data to train Random Forest model, and \"feature_importances_\" coefficient of random forest model to show the importance of features.\n",
    "4. Finally select the top-2 features.\n",
    "\n",
    "#### The figure and table showed below the function call."
   ]
  },
  {
   "cell_type": "code",
   "execution_count": 62,
   "metadata": {},
   "outputs": [],
   "source": [
    "def feature_selection(df, X_list):\n",
    "    corr = df[X_list].corr()\n",
    "    title = plt.axes()\n",
    "    sb.heatmap(corr, cmap=\"Blues\", annot=True, ax = title)\n",
    "    title.set_title('The correlation of features with Pearson method')\n",
    "    plt.xticks(rotation=15) \n",
    "#     plt.show()\n",
    "\n",
    "    X = df[X_list].copy()\n",
    "    scaler = StandardScaler()\n",
    "    scaler.fit(X)\n",
    "    X = scaler.transform(X)\n",
    "    y = df['profit']\n",
    "\n",
    "    forest = RandomForestClassifier()\n",
    "    forest.fit(X, y)\n",
    "    importances = forest.feature_importances_\n",
    "    # print(importances)\n",
    "    result = []\n",
    "    print(\"The importance of features are: (sorted)\")\n",
    "    for k, v in sorted(zip(map(lambda x: round(x, 4), importances), X_list), reverse=True):\n",
    "        print(v + ': ' + str(k))\n",
    "        result.append((v, k))\n",
    "\n",
    "    selected_list = []\n",
    "    n = 2\n",
    "    for i in range(n):\n",
    "        selected_list.append(result[i][0])\n",
    "\n",
    "    selected_list.append('profit')\n",
    "    selected_df = df[selected_list]\n",
    "    selected_df = selected_df.reset_index(drop=True)\n",
    "    \n",
    "    return selected_df"
   ]
  },
  {
   "cell_type": "code",
   "execution_count": 63,
   "metadata": {},
   "outputs": [],
   "source": [
    "def feature_reduction(df, X_list):\n",
    "    X = df[X_list]\n",
    "    scaler = StandardScaler()\n",
    "    scaler.fit(X)\n",
    "    X = scaler.transform(X)\n",
    "\n",
    "    pca = PCA(2)\n",
    "    pca.fit(X)\n",
    "    X = pca.transform(X)\n",
    "\n",
    "    index = ['x1', 'x2']\n",
    "    pca_df = pd.DataFrame(X, columns=index)\n",
    "    df = df.reset_index()\n",
    "    pca_df['profit'] = df['profit']\n",
    "\n",
    "    return pca_df"
   ]
  },
  {
   "cell_type": "code",
   "execution_count": 64,
   "metadata": {},
   "outputs": [],
   "source": [
    "def predict_by_2x(df, normalized):\n",
    "    X = df.iloc[:, 0:2]\n",
    "    y = df.iloc[:, -1]\n",
    "    if normalized == False:\n",
    "        scaler = StandardScaler()\n",
    "        scaler.fit(X)\n",
    "        X = scaler.transform(X)\n",
    "\n",
    "    # Data split\n",
    "    x_train, x_test, y_train, y_test = model_selection.train_test_split(X, y, test_size=0.5)\n",
    "\n",
    "    #SVM Classifier\n",
    "    svc_model = SVC(kernel='linear', C=21)\n",
    "    svc_model.fit(x_train, y_train)\n",
    "    SVC_score = svc_model.score(x_test, y_test)\n",
    "\n",
    "    #Logistic Regression\n",
    "    LR_model = LogisticRegression()\n",
    "    LR_model.fit(x_train, y_train)\n",
    "    LR_score = LR_model.score(x_test, y_test)\n",
    "\n",
    "    NB_model = GaussianNB()\n",
    "    NB_model.fit(x_train, y_train)\n",
    "    NB_score = NB_model.score(x_test, y_test)\n",
    "\n",
    "\n",
    "    return SVC_score, LR_score, NB_score"
   ]
  },
  {
   "cell_type": "code",
   "execution_count": 65,
   "metadata": {},
   "outputs": [],
   "source": [
    "wiki_movie_df = pd.read_json(\"wikidata-movies.json.gz\", lines=True, encoding='UTF8')\n",
    "rating_df = pd.read_json(\"rotten-tomatoes.json.gz\", lines=True, encoding='UTF8')\n",
    "genres_df = pd.read_json(\"omdb-data.json.gz\", lines=True, encoding='UTF8')\n",
    "wiki_genres_df = pd.read_json(\"genres.json.gz\", lines=True, encoding='UTF8')    "
   ]
  },
  {
   "cell_type": "code",
   "execution_count": 66,
   "metadata": {},
   "outputs": [
    {
     "data": {
      "text/html": [
       "<div>\n",
       "<style scoped>\n",
       "    .dataframe tbody tr th:only-of-type {\n",
       "        vertical-align: middle;\n",
       "    }\n",
       "\n",
       "    .dataframe tbody tr th {\n",
       "        vertical-align: top;\n",
       "    }\n",
       "\n",
       "    .dataframe thead th {\n",
       "        text-align: right;\n",
       "    }\n",
       "</style>\n",
       "<table border=\"1\" class=\"dataframe\">\n",
       "  <thead>\n",
       "    <tr style=\"text-align: right;\">\n",
       "      <th></th>\n",
       "      <th>audience_ratings</th>\n",
       "      <th>audience_percent</th>\n",
       "      <th>audience_average</th>\n",
       "      <th>critic_percent</th>\n",
       "      <th>critic_average</th>\n",
       "      <th>profit</th>\n",
       "    </tr>\n",
       "  </thead>\n",
       "  <tbody>\n",
       "    <tr>\n",
       "      <th>0</th>\n",
       "      <td>4479.0</td>\n",
       "      <td>57.0</td>\n",
       "      <td>3.3</td>\n",
       "      <td>74.0</td>\n",
       "      <td>6.4</td>\n",
       "      <td>True</td>\n",
       "    </tr>\n",
       "    <tr>\n",
       "      <th>1</th>\n",
       "      <td>2421.0</td>\n",
       "      <td>60.0</td>\n",
       "      <td>3.4</td>\n",
       "      <td>76.0</td>\n",
       "      <td>7.0</td>\n",
       "      <td>True</td>\n",
       "    </tr>\n",
       "    <tr>\n",
       "      <th>2</th>\n",
       "      <td>26832.0</td>\n",
       "      <td>96.0</td>\n",
       "      <td>4.4</td>\n",
       "      <td>98.0</td>\n",
       "      <td>9.1</td>\n",
       "      <td>True</td>\n",
       "    </tr>\n",
       "    <tr>\n",
       "      <th>3</th>\n",
       "      <td>6801.0</td>\n",
       "      <td>57.0</td>\n",
       "      <td>3.4</td>\n",
       "      <td>89.0</td>\n",
       "      <td>7.3</td>\n",
       "      <td>True</td>\n",
       "    </tr>\n",
       "    <tr>\n",
       "      <th>4</th>\n",
       "      <td>39909.0</td>\n",
       "      <td>95.0</td>\n",
       "      <td>4.3</td>\n",
       "      <td>100.0</td>\n",
       "      <td>9.0</td>\n",
       "      <td>False</td>\n",
       "    </tr>\n",
       "  </tbody>\n",
       "</table>\n",
       "</div>"
      ],
      "text/plain": [
       "   audience_ratings  audience_percent  audience_average  critic_percent  \\\n",
       "0            4479.0              57.0               3.3            74.0   \n",
       "1            2421.0              60.0               3.4            76.0   \n",
       "2           26832.0              96.0               4.4            98.0   \n",
       "3            6801.0              57.0               3.4            89.0   \n",
       "4           39909.0              95.0               4.3           100.0   \n",
       "\n",
       "   critic_average  profit  \n",
       "0             6.4    True  \n",
       "1             7.0    True  \n",
       "2             9.1    True  \n",
       "3             7.3    True  \n",
       "4             9.0   False  "
      ]
     },
     "execution_count": 66,
     "metadata": {},
     "output_type": "execute_result"
    }
   ],
   "source": [
    "wiki_movie_df = wiki_movie_df.set_index('imdb_id').join(rating_df.set_index('imdb_id'), \\\n",
    "                                                        how='left', \\\n",
    "                                                        lsuffix='wiki_movie_df')\n",
    "wiki_movie_df = wiki_movie_df.reset_index()\n",
    "info_list = ['audience_ratings',\n",
    "                'audience_percent', \n",
    "                'audience_average', \n",
    "                'critic_percent', \n",
    "                'critic_average',\n",
    "                'made_profit']\n",
    "\n",
    "wiki_movie = wiki_movie_df[info_list].copy().reset_index(drop=True)\n",
    "\n",
    "wiki_movie = wiki_movie[(wiki_movie.made_profit == 1.0) | (wiki_movie.made_profit == 0.0) ]\n",
    "\n",
    "wiki_movie['profit'] = pd.Series(wiki_movie.made_profit == 1.0, index=wiki_movie.index)\n",
    "wiki_movie = wiki_movie.drop(columns=['made_profit'])\n",
    "wiki_movie = wiki_movie[wiki_movie.isnull().sum(axis=1) == 0].reset_index(drop=True)\n",
    "\n",
    "X_list = ['audience_ratings',\n",
    "            'audience_percent', \n",
    "            'audience_average', \n",
    "            'critic_percent', \n",
    "            'critic_average'\n",
    "         ]\n",
    "wiki_movie.head()"
   ]
  },
  {
   "cell_type": "code",
   "execution_count": 67,
   "metadata": {},
   "outputs": [],
   "source": [
    "SVC_score_all, LR_score_all, NB_score_all = predict_by_all(wiki_movie, X_list)"
   ]
  },
  {
   "cell_type": "code",
   "execution_count": 68,
   "metadata": {},
   "outputs": [
    {
     "name": "stdout",
     "output_type": "stream",
     "text": [
      "The importance of features are: (sorted)\n",
      "audience_ratings: 0.3416\n",
      "audience_percent: 0.1903\n",
      "critic_percent: 0.1806\n",
      "critic_average: 0.1441\n",
      "audience_average: 0.1434\n"
     ]
    },
    {
     "data": {
      "image/png": "[encoded data removed]",
      "text/plain": [
       "<Figure size 432x288 with 2 Axes>"
      ]
     },
     "metadata": {},
     "output_type": "display_data"
    }
   ],
   "source": [
    "fs_df = feature_selection(wiki_movie, X_list)"
   ]
  },
  {
   "cell_type": "code",
   "execution_count": 69,
   "metadata": {},
   "outputs": [
    {
     "data": {
      "text/html": [
       "<div>\n",
       "<style scoped>\n",
       "    .dataframe tbody tr th:only-of-type {\n",
       "        vertical-align: middle;\n",
       "    }\n",
       "\n",
       "    .dataframe tbody tr th {\n",
       "        vertical-align: top;\n",
       "    }\n",
       "\n",
       "    .dataframe thead th {\n",
       "        text-align: right;\n",
       "    }\n",
       "</style>\n",
       "<table border=\"1\" class=\"dataframe\">\n",
       "  <thead>\n",
       "    <tr style=\"text-align: right;\">\n",
       "      <th></th>\n",
       "      <th>audience_ratings</th>\n",
       "      <th>audience_percent</th>\n",
       "      <th>profit</th>\n",
       "    </tr>\n",
       "  </thead>\n",
       "  <tbody>\n",
       "    <tr>\n",
       "      <th>0</th>\n",
       "      <td>4479.0</td>\n",
       "      <td>57.0</td>\n",
       "      <td>True</td>\n",
       "    </tr>\n",
       "    <tr>\n",
       "      <th>1</th>\n",
       "      <td>2421.0</td>\n",
       "      <td>60.0</td>\n",
       "      <td>True</td>\n",
       "    </tr>\n",
       "    <tr>\n",
       "      <th>2</th>\n",
       "      <td>26832.0</td>\n",
       "      <td>96.0</td>\n",
       "      <td>True</td>\n",
       "    </tr>\n",
       "    <tr>\n",
       "      <th>3</th>\n",
       "      <td>6801.0</td>\n",
       "      <td>57.0</td>\n",
       "      <td>True</td>\n",
       "    </tr>\n",
       "    <tr>\n",
       "      <th>4</th>\n",
       "      <td>39909.0</td>\n",
       "      <td>95.0</td>\n",
       "      <td>False</td>\n",
       "    </tr>\n",
       "  </tbody>\n",
       "</table>\n",
       "</div>"
      ],
      "text/plain": [
       "   audience_ratings  audience_percent  profit\n",
       "0            4479.0              57.0    True\n",
       "1            2421.0              60.0    True\n",
       "2           26832.0              96.0    True\n",
       "3            6801.0              57.0    True\n",
       "4           39909.0              95.0   False"
      ]
     },
     "execution_count": 69,
     "metadata": {},
     "output_type": "execute_result"
    }
   ],
   "source": [
    "fs_df.head()"
   ]
  },
  {
   "cell_type": "code",
   "execution_count": 70,
   "metadata": {},
   "outputs": [],
   "source": [
    "pca_df = feature_reduction(wiki_movie, X_list)"
   ]
  },
  {
   "cell_type": "code",
   "execution_count": 71,
   "metadata": {},
   "outputs": [
    {
     "data": {
      "text/html": [
       "<div>\n",
       "<style scoped>\n",
       "    .dataframe tbody tr th:only-of-type {\n",
       "        vertical-align: middle;\n",
       "    }\n",
       "\n",
       "    .dataframe tbody tr th {\n",
       "        vertical-align: top;\n",
       "    }\n",
       "\n",
       "    .dataframe thead th {\n",
       "        text-align: right;\n",
       "    }\n",
       "</style>\n",
       "<table border=\"1\" class=\"dataframe\">\n",
       "  <thead>\n",
       "    <tr style=\"text-align: right;\">\n",
       "      <th></th>\n",
       "      <th>x1</th>\n",
       "      <th>x2</th>\n",
       "      <th>profit</th>\n",
       "    </tr>\n",
       "  </thead>\n",
       "  <tbody>\n",
       "    <tr>\n",
       "      <th>0</th>\n",
       "      <td>0.336169</td>\n",
       "      <td>-0.104390</td>\n",
       "      <td>True</td>\n",
       "    </tr>\n",
       "    <tr>\n",
       "      <th>1</th>\n",
       "      <td>-0.082387</td>\n",
       "      <td>-0.102625</td>\n",
       "      <td>True</td>\n",
       "    </tr>\n",
       "    <tr>\n",
       "      <th>2</th>\n",
       "      <td>-3.160202</td>\n",
       "      <td>-0.240776</td>\n",
       "      <td>True</td>\n",
       "    </tr>\n",
       "    <tr>\n",
       "      <th>3</th>\n",
       "      <td>-0.351443</td>\n",
       "      <td>-0.058114</td>\n",
       "      <td>True</td>\n",
       "    </tr>\n",
       "    <tr>\n",
       "      <th>4</th>\n",
       "      <td>-3.037615</td>\n",
       "      <td>-0.213600</td>\n",
       "      <td>False</td>\n",
       "    </tr>\n",
       "  </tbody>\n",
       "</table>\n",
       "</div>"
      ],
      "text/plain": [
       "         x1        x2  profit\n",
       "0  0.336169 -0.104390    True\n",
       "1 -0.082387 -0.102625    True\n",
       "2 -3.160202 -0.240776    True\n",
       "3 -0.351443 -0.058114    True\n",
       "4 -3.037615 -0.213600   False"
      ]
     },
     "execution_count": 71,
     "metadata": {},
     "output_type": "execute_result"
    }
   ],
   "source": [
    "pca_df.head()"
   ]
  },
  {
   "cell_type": "code",
   "execution_count": 72,
   "metadata": {},
   "outputs": [],
   "source": [
    "SVC_score_pca, LR_score_pca, NB_score_pca = predict_by_2x(pca_df, True)\n",
    "SVC_score_fs, LR_score_fs, NB_score_fs = predict_by_2x(fs_df, False)"
   ]
  },
  {
   "cell_type": "code",
   "execution_count": 73,
   "metadata": {},
   "outputs": [],
   "source": [
    "score_list = [\n",
    "                SVC_score_all, LR_score_all, NB_score_all, \\\n",
    "                SVC_score_pca, LR_score_pca, NB_score_pca, \\\n",
    "                SVC_score_fs, LR_score_fs, NB_score_fs\n",
    "            ]\n",
    "\n",
    "method_list = [\n",
    "                \"The accuracy of model with all rating features by SVM Classifier\",\n",
    "                \"The accuracy of model with all rating features by Logistic Regression\",\n",
    "                \"The accuracy of model with all rating features by Naive bayes Classifier\",\n",
    "                \"The accuracy of model with PCA transformed features by SVM Classifier\",\n",
    "                \"The accuracy of model with PCA transformed features by Logistic Regression\",\n",
    "                \"The accuracy of model with PCA transformed features by Naive Bayes Classifier\",\n",
    "                \"The accuracy of model with Top-2 important features by SVM Classifier\",\n",
    "                \"The accuracy of model with Top-2 important features by Logistic Regression\",\n",
    "                \"The accuracy of model with Top-2 important features by Naive Bayes Classifier\",\n",
    "]"
   ]
  },
  {
   "cell_type": "code",
   "execution_count": 74,
   "metadata": {},
   "outputs": [
    {
     "name": "stdout",
     "output_type": "stream",
     "text": [
      "The accuracy of model with PCA transformed features by Logistic Regression: 0.8478\n",
      "The accuracy of model with PCA transformed features by SVM Classifier: 0.8451\n",
      "The accuracy of model with Top-2 important features by SVM Classifier: 0.8342\n",
      "The accuracy of model with Top-2 important features by Logistic Regression: 0.8342\n",
      "The accuracy of model with all rating features by SVM Classifier: 0.8179\n",
      "The accuracy of model with all rating features by Logistic Regression: 0.8179\n",
      "The accuracy of model with PCA transformed features by Naive Bayes Classifier: 0.6685\n",
      "The accuracy of model with all rating features by Naive bayes Classifier: 0.6223\n",
      "The accuracy of model with Top-2 important features by Naive Bayes Classifier: 0.394\n"
     ]
    }
   ],
   "source": [
    "for k, v in sorted(zip(map(lambda x: round(x, 4), score_list), method_list), reverse=True):\n",
    "    print(v + ': ' + str(k))"
   ]
  },
  {
   "cell_type": "code",
   "execution_count": 75,
   "metadata": {},
   "outputs": [],
   "source": [
    "def show_distribution(df):\n",
    "    X = df.iloc[:, 0:2]\n",
    "    scaler = StandardScaler()\n",
    "    scaler.fit(X)\n",
    "    X = scaler.transform(X)\n",
    "    temp_df = pd.DataFrame(data=X, columns=['x', 'y'])\n",
    "    temp_df['profit'] = pd.Series(df['profit'], index=temp_df.index)\n",
    "    temp_df['x'] = temp_df[temp_df['x'] < 3] # remove some outliers\n",
    "    sb.lmplot(x='x', y='y', fit_reg=False, data=temp_df, hue='profit', \\\n",
    "            markers=[\"x\", \"o\"], palette={True:'b', False:'r'})\n",
    "    plt.show()"
   ]
  },
  {
   "cell_type": "code",
   "execution_count": 76,
   "metadata": {},
   "outputs": [
    {
     "data": {
      "image/png": "[encoded data removed]",
      "text/plain": [
       "<Figure size 428.459x360 with 1 Axes>"
      ]
     },
     "metadata": {},
     "output_type": "display_data"
    }
   ],
   "source": [
    "sb.set()\n",
    "show_distribution(fs_df)"
   ]
  }
 ],
 "metadata": {
  "kernelspec": {
   "display_name": "Python 3",
   "language": "python",
   "name": "python3"
  },
  "language_info": {
   "codemirror_mode": {
    "name": "ipython",
    "version": 3
   },
   "file_extension": ".py",
   "mimetype": "text/x-python",
   "name": "python",
   "nbconvert_exporter": "python",
   "pygments_lexer": "ipython3",
   "version": "3.6.6"
  }
 },
 "nbformat": 4,
 "nbformat_minor": 2
}
